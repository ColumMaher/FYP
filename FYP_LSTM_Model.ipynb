{
  "cells": [
    {
      "cell_type": "code",
      "execution_count": 1,
      "metadata": {
        "id": "ZxVrhiF0Mh00"
      },
      "outputs": [],
      "source": [
        "import torch\n",
        "import torchtext\n",
        "import math\n",
        "import copy\n",
        "import time\n",
        "from typing import Tuple\n",
        "from torch import Tensor\n",
        "import torch.nn as nn\n",
        "import torch.optim as optim\n",
        "from torchtext.data.utils import get_tokenizer\n",
        "from torch.utils.data import dataset"
      ]
    },
    {
      "cell_type": "code",
      "execution_count": 2,
      "metadata": {
        "id": "YOX72cCBS71c"
      },
      "outputs": [],
      "source": [
        "from torchtext.datasets import PennTreebank "
      ]
    },
    {
      "cell_type": "code",
      "execution_count": 3,
      "metadata": {
        "id": "0FioMPfTdBJT"
      },
      "outputs": [],
      "source": [
        "train_iter = PennTreebank(split='train')\n",
        "tokenizer = get_tokenizer('basic_english')\n",
        "vocab = torchtext.vocab.build_vocab_from_iterator(map(tokenizer, train_iter), specials=['<unk>'])\n",
        "vocab.set_default_index(vocab['<unk>'])"
      ]
    },
    {
      "cell_type": "code",
      "execution_count": 4,
      "metadata": {
        "id": "S5Ae9CdAyZQH"
      },
      "outputs": [],
      "source": [
        "def data_process(raw_text_iter: dataset.IterableDataset) -> Tensor:\n",
        "  \"\"\"Converts raw text into a flat Tensor.\"\"\"\n",
        "  data = [torch.tensor(vocab(tokenizer(item)), dtype=torch.long) for item in raw_text_iter]\n",
        "  return torch.cat(tuple(filter(lambda t: t.numel() > 0, data)))"
      ]
    },
    {
      "cell_type": "code",
      "execution_count": 5,
      "metadata": {
        "id": "R5cZes9WiHFJ"
      },
      "outputs": [],
      "source": [
        "train_iter, val_iter, test_iter = PennTreebank()\n",
        "train_data= data_process(train_iter)\n",
        "val_data= data_process(val_iter)\n",
        "test_data= data_process(test_iter)\n",
        "\n",
        "device = torch.device('cuda' if torch.cuda.is_available() else 'cpu')"
      ]
    },
    {
      "cell_type": "code",
      "execution_count": 6,
      "metadata": {
        "id": "VVTtf0cPycRW"
      },
      "outputs": [],
      "source": [
        "def batchify(data: Tensor, bsz: int) -> Tensor:\n",
        "    \"\"\"Divides the data into bsz separate sequences, removing extra elements\n",
        "    that wouldn't cleanly fit.\n",
        "\n",
        "    Args:\n",
        "        data: Tensor, shape [N]\n",
        "        bsz: int, batch size\n",
        "\n",
        "    Returns:\n",
        "        Tensor of shape [N // bsz, bsz]\n",
        "    \"\"\"\n",
        "    seq_len = data.size(0) // bsz\n",
        "    data = data[:seq_len * bsz]\n",
        "    data = data.view(bsz, seq_len).t().contiguous()\n",
        "    return data.to(device)"
      ]
    },
    {
      "cell_type": "code",
      "execution_count": 7,
      "metadata": {},
      "outputs": [],
      "source": [
        "batch_size = 40\n",
        "eval_batch_size = 40"
      ]
    },
    {
      "cell_type": "code",
      "execution_count": 8,
      "metadata": {
        "id": "Vz5mzO8wycub"
      },
      "outputs": [],
      "source": [
        "train_data = batchify(train_data, batch_size)  # shape [seq_len, batch_size]\n",
        "val_data = batchify(val_data, eval_batch_size)\n",
        "test_data = batchify(test_data, eval_batch_size)"
      ]
    },
    {
      "cell_type": "code",
      "execution_count": 9,
      "metadata": {
        "colab": {
          "base_uri": "https://localhost:8080/"
        },
        "id": "n0-OPgEJ0lgm",
        "outputId": "00b09869-e726-4b1e-83e4-84951696f08e"
      },
      "outputs": [
        {
          "name": "stdout",
          "output_type": "stream",
          "text": [
            "tensor([9892,  107,    4,  882,   31,    0,   16,  708, 1925,    2,  178,  301,\n",
            "           3, 1887, 2295,  947,    5,    1,   42, 5643, 3412,   62, 1611,    1,\n",
            "           1,   91,  730,  588, 3722,    3, 5722,    7, 2124,    3, 1678,    0,\n",
            "         796, 2206,  829, 2385])\n"
          ]
        }
      ],
      "source": [
        "print(train_data[0])"
      ]
    },
    {
      "cell_type": "code",
      "execution_count": 10,
      "metadata": {
        "id": "jN-g8V7ByvRH"
      },
      "outputs": [],
      "source": [
        "bptt = 40\n",
        "def get_batch(source: Tensor, i: int) -> Tuple[Tensor, Tensor]:\n",
        "    \"\"\"\n",
        "    Args:\n",
        "        source: Tensor, shape [full_seq_len, batch_size]\n",
        "        i: int\n",
        "\n",
        "    Returns:\n",
        "        tuple (data, target), where data has shape [seq_len, batch_size] and\n",
        "        target has shape [seq_len * batch_size]\n",
        "    \"\"\"\n",
        "    seq_len = min(bptt, len(source) - 1 - i)\n",
        "    data = source[i:i+seq_len]\n",
        "    target = source[i+1:i+1+seq_len].reshape(-1)\n",
        "    return data, target"
      ]
    },
    {
      "cell_type": "code",
      "execution_count": 11,
      "metadata": {},
      "outputs": [],
      "source": [
        "class BiLSTM(nn.Module):\n",
        "  def __init__(self, vocab_size, embedding_dim, hidden_dim, num_layers, dropout_rate):\n",
        "    super().__init__()\n",
        "\n",
        "    self.num_layers = num_layers\n",
        "    self.hidden_dim = hidden_dim\n",
        "    self.embedding_dim = embedding_dim\n",
        "\n",
        "    self.embedding = nn.Embedding(vocab_size, embedding_dim)\n",
        "    self.lstm = nn.LSTM(embedding_dim, hidden_dim, num_layers=num_layers, \n",
        "                        dropout=dropout_rate, bidirectional=True)\n",
        "    self.dropout = nn.Dropout(dropout_rate)\n",
        "    self.linear = nn.Linear(hidden_dim*2, vocab_size) # update hidden_dim*2\n",
        "\n",
        "    self.init_weights()\n",
        "\n",
        "  def forward(self, x, hidden):\n",
        "    output  = self.embedding(x)\n",
        "    output, hidden = self.lstm(output, hidden)\n",
        "    output = self.dropout(output)\n",
        "    output = self.linear(output)\n",
        "    return output, hidden\n",
        "\n",
        "  def init_weights(self):\n",
        "    init_range_emb = 0.1\n",
        "    init_range_other = 1/math.sqrt(self.hidden_dim)\n",
        "    self.embedding.weight.data.uniform_(-init_range_emb, init_range_emb)\n",
        "    self.linear.weight.data.uniform_(-init_range_other, init_range_other)\n",
        "    self.linear.bias.data.zero_()\n",
        "\n",
        "\n",
        "  def init_hidden(self, batch_size):\n",
        "    hidden = torch.zeros(self.num_layers*2, batch_size, self.hidden_dim).to(device)\n",
        "    cell = torch.zeros(self.num_layers*2, batch_size, self.hidden_dim).to(device)\n",
        "    return hidden, cell\n",
        "  \n",
        "  def detach_hidden(self, hidden):\n",
        "    hidden, cell = hidden\n",
        "    hidden = hidden.detach()\n",
        "    cell = cell.detach()\n",
        "    return hidden, cell"
      ]
    },
    {
      "cell_type": "code",
      "execution_count": 12,
      "metadata": {
        "id": "xYF8ErZ2zE6b"
      },
      "outputs": [],
      "source": [
        "class LSTM(nn.Module):\n",
        "  def __init__(self, vocab_size, embedding_dim, hidden_dim, num_layers, dropout_rate, tie_weights):\n",
        "    super().__init__()\n",
        "\n",
        "    self.num_layers = num_layers\n",
        "    self.hidden_dim = hidden_dim\n",
        "    self.embedding_dim = embedding_dim\n",
        "\n",
        "    self.embedding = nn.Embedding(vocab_size, embedding_dim)\n",
        "    self.lstm = nn.LSTM(embedding_dim, hidden_dim, num_layers=num_layers, \n",
        "                    dropout=dropout_rate, batch_first=True)\n",
        "    self.dropout = nn.Dropout(dropout_rate)\n",
        "    self.linear = nn.Linear(hidden_dim, vocab_size)\n",
        "\n",
        "    if tie_weights:\n",
        "      #Embedding and hidden layer need to be same size for weight tieing\n",
        "          assert embedding_dim == hidden_dim, 'cannot tie, check dims'\n",
        "          self.linear.weight = self.embedding.weight\n",
        "\n",
        "  def forward(self, x):\n",
        "    # x is a batch of input sequences\n",
        "    x = self.embedding(x)\n",
        "    x, _ = self.lstm(x)\n",
        "    x = self.dropout(x)\n",
        "    #next_word = x[-1, :, :]\n",
        "    x = self.linear(x)\n",
        "    return x "
      ]
    },
    {
      "cell_type": "code",
      "execution_count": 13,
      "metadata": {
        "colab": {
          "base_uri": "https://localhost:8080/"
        },
        "id": "5vPNWmqoUWmJ",
        "outputId": "e57ab253-8b84-463c-a80c-66e05b5d44c7"
      },
      "outputs": [
        {
          "data": {
            "text/plain": [
              "LSTM(\n",
              "  (embedding): Embedding(9922, 100)\n",
              "  (lstm): LSTM(100, 100, num_layers=2, batch_first=True, dropout=0.4)\n",
              "  (dropout): Dropout(p=0.4, inplace=False)\n",
              "  (linear): Linear(in_features=100, out_features=9922, bias=True)\n",
              ")"
            ]
          },
          "execution_count": 13,
          "metadata": {},
          "output_type": "execute_result"
        }
      ],
      "source": [
        "vocab_size = len(vocab)\n",
        "embedding_dim = 100\n",
        "hidden_dim = 100\n",
        "num_layers = 2\n",
        "dropout_rate = 0.4\n",
        "tie_weights = True\n",
        "model = LSTM(vocab_size, embedding_dim, hidden_dim, num_layers, dropout_rate, tie_weights)\n",
        "model.to(device)"
      ]
    },
    {
      "cell_type": "code",
      "execution_count": 14,
      "metadata": {},
      "outputs": [
        {
          "name": "stderr",
          "output_type": "stream",
          "text": [
            "c:\\Users\\Colum\\anaconda3\\lib\\site-packages\\torch\\nn\\modules\\rnn.py:67: UserWarning: dropout option adds dropout after all but last recurrent layer, so non-zero dropout expects num_layers greater than 1, but got dropout=0.4 and num_layers=1\n",
            "  warnings.warn(\"dropout option adds dropout after all but last \"\n"
          ]
        },
        {
          "data": {
            "text/plain": [
              "BiLSTM(\n",
              "  (embedding): Embedding(9922, 100)\n",
              "  (lstm): LSTM(100, 100, dropout=0.4, bidirectional=True)\n",
              "  (dropout): Dropout(p=0.4, inplace=False)\n",
              "  (linear): Linear(in_features=200, out_features=9922, bias=True)\n",
              ")"
            ]
          },
          "execution_count": 14,
          "metadata": {},
          "output_type": "execute_result"
        }
      ],
      "source": [
        "vocab_size = len(vocab)\n",
        "embedding_dim = 100\n",
        "hidden_dim = 100\n",
        "num_layers = 1\n",
        "#dropout_rate = 0.4\n",
        "model = BiLSTM(vocab_size, embedding_dim, hidden_dim, num_layers, dropout_rate)\n",
        "model.to(device)"
      ]
    },
    {
      "cell_type": "code",
      "execution_count": 15,
      "metadata": {
        "id": "VbUtSuzbUbea"
      },
      "outputs": [],
      "source": [
        "criterion = nn.CrossEntropyLoss()\n",
        "lr = 20.0  # learning rate\n",
        "optimizer = torch.optim.SGD(model.parameters(), lr=lr)\n",
        "scheduler = torch.optim.lr_scheduler.StepLR(optimizer, 1.0, gamma=0.95)\n",
        "\n",
        "def train(model: nn.Module) -> None:\n",
        "    model.train()  # turn on train mode\n",
        "    total_loss = 0.\n",
        "    log_interval = 200\n",
        "    start_time = time.time()\n",
        "\n",
        "    hidden = model.init_hidden(batch_size)\n",
        "    \n",
        "    num_batches = len(train_data) // bptt\n",
        "    for batch, i in enumerate(range(0, train_data.size(0) - 1, bptt)):\n",
        "        hidden = model.detach_hidden(hidden)\n",
        "        data, targets = get_batch(train_data, i)\n",
        "        output, hidden = model(data, hidden)\n",
        "        loss = criterion(output.view(-1, vocab_size), targets)\n",
        "\n",
        "        optimizer.zero_grad()\n",
        "        loss.backward()\n",
        "        #torch.nn.utils.clip_grad_norm_(model.parameters(), 0.5)\n",
        "        optimizer.step()\n",
        "\n",
        "        total_loss += loss.item()\n",
        "        \n",
        "        if batch % log_interval == 0 and batch > 0:\n",
        "            lr = scheduler.get_last_lr()[0]\n",
        "            ms_per_batch = (time.time() - start_time) * 1000 / log_interval\n",
        "            cur_loss = total_loss / log_interval\n",
        "            ppl = math.exp(cur_loss)\n",
        "            print(f'| epoch {epoch:3d} | {batch:5d}/{num_batches:5d} batches | '\n",
        "                  f'lr {lr:02.2f} | ms/batch {ms_per_batch:5.2f} | '\n",
        "                  f'loss {cur_loss:5.2f} | ppl {ppl:8.2f}')\n",
        "            total_loss = 0\n",
        "            start_time = time.time()"
      ]
    },
    {
      "cell_type": "code",
      "execution_count": 16,
      "metadata": {
        "id": "5SjEJ3OY91mw"
      },
      "outputs": [],
      "source": [
        "def evaluate(model: nn.Module, eval_data: Tensor) -> float:\n",
        "    model.eval()  # turn on evaluation mode\n",
        "    total_loss = 0.\n",
        "    hidden = model.init_hidden(eval_batch_size)\n",
        "    with torch.no_grad():\n",
        "        for i in range(0, eval_data.size(0) - 1, bptt):\n",
        "            hidden = model.detach_hidden(hidden)\n",
        "            data, targets = get_batch(eval_data, i)\n",
        "            seq_len = data.size(0)\n",
        "            output, hidden = model(data, hidden)\n",
        "            output_flat = output.view(-1, vocab_size)\n",
        "            total_loss += seq_len * criterion(output_flat, targets).item()\n",
        "    return total_loss / (len(eval_data) - 1)"
      ]
    },
    {
      "cell_type": "code",
      "execution_count": 17,
      "metadata": {
        "colab": {
          "base_uri": "https://localhost:8080/"
        },
        "id": "_RQth0cB_Jj8",
        "outputId": "982b6580-975e-4de5-8f3a-ffc756e874b4"
      },
      "outputs": [
        {
          "name": "stdout",
          "output_type": "stream",
          "text": [
            "| epoch   1 |   200/  577 batches | lr 20.00 | ms/batch 190.59 | loss 11.23 | ppl 75355.16\n",
            "| epoch   1 |   400/  577 batches | lr 20.00 | ms/batch 199.84 | loss  7.54 | ppl  1876.16\n",
            "-----------------------------------------------------------------------------------------\n",
            "| end of epoch   1 | time: 117.27s | valid loss  7.17 | valid ppl  1300.48\n",
            "-----------------------------------------------------------------------------------------\n",
            "| epoch   2 |   200/  577 batches | lr 19.00 | ms/batch 201.98 | loss  6.57 | ppl   711.14\n",
            "| epoch   2 |   400/  577 batches | lr 19.00 | ms/batch 191.85 | loss  6.41 | ppl   606.84\n",
            "-----------------------------------------------------------------------------------------\n",
            "| end of epoch   2 | time: 117.00s | valid loss  5.79 | valid ppl   325.60\n",
            "-----------------------------------------------------------------------------------------\n",
            "| epoch   3 |   200/  577 batches | lr 18.05 | ms/batch 199.11 | loss  5.99 | ppl   400.87\n",
            "| epoch   3 |   400/  577 batches | lr 18.05 | ms/batch 194.77 | loss  5.86 | ppl   351.33\n",
            "-----------------------------------------------------------------------------------------\n",
            "| end of epoch   3 | time: 116.90s | valid loss  5.15 | valid ppl   172.28\n",
            "-----------------------------------------------------------------------------------------\n",
            "| epoch   4 |   200/  577 batches | lr 17.15 | ms/batch 195.61 | loss  5.81 | ppl   332.43\n",
            "| epoch   4 |   400/  577 batches | lr 17.15 | ms/batch 196.15 | loss  5.73 | ppl   307.87\n",
            "-----------------------------------------------------------------------------------------\n",
            "| end of epoch   4 | time: 119.65s | valid loss  5.33 | valid ppl   205.51\n",
            "-----------------------------------------------------------------------------------------\n",
            "| epoch   5 |   200/  577 batches | lr 16.29 | ms/batch 202.92 | loss  5.63 | ppl   277.46\n",
            "| epoch   5 |   400/  577 batches | lr 16.29 | ms/batch 202.09 | loss  5.56 | ppl   261.08\n",
            "-----------------------------------------------------------------------------------------\n",
            "| end of epoch   5 | time: 120.71s | valid loss  4.77 | valid ppl   118.33\n",
            "-----------------------------------------------------------------------------------------\n",
            "| epoch   6 |   200/  577 batches | lr 15.48 | ms/batch 201.56 | loss  5.45 | ppl   233.89\n",
            "| epoch   6 |   400/  577 batches | lr 15.48 | ms/batch 201.19 | loss  5.42 | ppl   226.70\n",
            "-----------------------------------------------------------------------------------------\n",
            "| end of epoch   6 | time: 120.79s | valid loss  4.71 | valid ppl   111.47\n",
            "-----------------------------------------------------------------------------------------\n",
            "| epoch   7 |   200/  577 batches | lr 14.70 | ms/batch 200.71 | loss  5.25 | ppl   191.40\n",
            "| epoch   7 |   400/  577 batches | lr 14.70 | ms/batch 199.79 | loss  5.21 | ppl   182.24\n",
            "-----------------------------------------------------------------------------------------\n",
            "| end of epoch   7 | time: 119.31s | valid loss  5.13 | valid ppl   168.54\n",
            "-----------------------------------------------------------------------------------------\n",
            "| epoch   8 |   200/  577 batches | lr 13.97 | ms/batch 201.64 | loss  5.15 | ppl   171.81\n",
            "| epoch   8 |   400/  577 batches | lr 13.97 | ms/batch 196.57 | loss  5.10 | ppl   164.32\n",
            "-----------------------------------------------------------------------------------------\n",
            "| end of epoch   8 | time: 118.86s | valid loss  4.90 | valid ppl   133.85\n",
            "-----------------------------------------------------------------------------------------\n",
            "| epoch   9 |   200/  577 batches | lr 13.27 | ms/batch 200.65 | loss  5.05 | ppl   155.83\n",
            "| epoch   9 |   400/  577 batches | lr 13.27 | ms/batch 198.82 | loss  5.02 | ppl   151.71\n",
            "-----------------------------------------------------------------------------------------\n",
            "| end of epoch   9 | time: 119.39s | valid loss  5.25 | valid ppl   191.50\n",
            "-----------------------------------------------------------------------------------------\n",
            "| epoch  10 |   200/  577 batches | lr 12.60 | ms/batch 198.95 | loss  4.96 | ppl   142.47\n",
            "| epoch  10 |   400/  577 batches | lr 12.60 | ms/batch 200.51 | loss  4.90 | ppl   134.74\n",
            "-----------------------------------------------------------------------------------------\n",
            "| end of epoch  10 | time: 118.92s | valid loss  4.88 | valid ppl   131.09\n",
            "-----------------------------------------------------------------------------------------\n"
          ]
        }
      ],
      "source": [
        "best_val_loss = float('inf')\n",
        "epochs = 10\n",
        "best_model = None\n",
        "\n",
        "for epoch in range(1, epochs + 1):\n",
        "    epoch_start_time = time.time()\n",
        "    train(model)\n",
        "    val_loss = evaluate(model, val_data)\n",
        "    val_ppl = math.exp(val_loss)\n",
        "    elapsed = time.time() - epoch_start_time\n",
        "    print('-' * 89)\n",
        "    print(f'| end of epoch {epoch:3d} | time: {elapsed:5.2f}s | '\n",
        "          f'valid loss {val_loss:5.2f} | valid ppl {val_ppl:8.2f}')\n",
        "    print('-' * 89)\n",
        "\n",
        "    if val_loss < best_val_loss:\n",
        "        best_val_loss = val_loss\n",
        "        best_model = copy.deepcopy(model)\n",
        "\n",
        "    scheduler.step()"
      ]
    },
    {
      "cell_type": "code",
      "execution_count": 18,
      "metadata": {
        "colab": {
          "base_uri": "https://localhost:8080/"
        },
        "id": "6FbM0c93_J03",
        "outputId": "e04e513f-d8ec-4b7f-e199-96b28eb686fd"
      },
      "outputs": [
        {
          "name": "stdout",
          "output_type": "stream",
          "text": [
            "=========================================================================================\n",
            "| End of training | test loss  4.67 | test ppl   107.07\n",
            "=========================================================================================\n"
          ]
        }
      ],
      "source": [
        "test_loss = evaluate(best_model, test_data)\n",
        "test_ppl = math.exp(test_loss)\n",
        "print('=' * 89)\n",
        "print(f'| End of training | test loss {test_loss:5.2f} | '\n",
        "      f'test ppl {test_ppl:8.2f}')\n",
        "print('=' * 89)"
      ]
    },
    {
      "cell_type": "code",
      "execution_count": 19,
      "metadata": {},
      "outputs": [],
      "source": [
        "import torch.nn.functional as F"
      ]
    },
    {
      "cell_type": "code",
      "execution_count": 20,
      "metadata": {},
      "outputs": [],
      "source": [
        "def predict_next_word(\n",
        "    model: nn.Module,\n",
        "    prompt: str,\n",
        "    vocab: torchtext.vocab.Vocab,\n",
        "    top_k: int,\n",
        "    temperature: float = 1.0,\n",
        ") -> str:\n",
        "    # Tokenize the prompt and convert to tensor\n",
        "    tokenized_prompt = tokenizer(prompt)\n",
        "    tensor_prompt = torch.tensor(vocab(tokenized_prompt), dtype=torch.long)\n",
        "    prompt_length = len(tokenized_prompt)\n",
        "\n",
        "    # Pass the prompt through the model\n",
        "    with torch.no_grad():\n",
        "        model.eval()  # turn on evaluation mode\n",
        "        hidden = model.init_hidden(prompt_length)\n",
        "        output, _ = model(tensor_prompt.unsqueeze(0), hidden)#.to(device)\n",
        "        output = output[-1, :, :]\n",
        "\n",
        "    # Sample the next word from the output\n",
        "    output = output / temperature\n",
        "    probs = F.softmax(output, dim=-1)\n",
        "    top_k_probs, top_k_words = probs.topk(k=top_k)\n",
        "    next_word_list = [\n",
        "        (vocab.get_itos()[i[0].item()], p[0].item())\n",
        "        for i, p in zip(top_k_words, top_k_probs)\n",
        "    ]\n",
        "    return next_word_list"
      ]
    },
    {
      "cell_type": "code",
      "execution_count": 21,
      "metadata": {},
      "outputs": [
        {
          "name": "stdout",
          "output_type": "stream",
          "text": [
            "['she', 'doesn', \"'\", 't', 'study', 'german', 'on']\n"
          ]
        }
      ],
      "source": [
        "prompt = \"She doesn't study German on\"\n",
        "tokenized_prompt = tokenizer(prompt)\n",
        "tensor_prompt = torch.tensor(vocab(tokenized_prompt), dtype=torch.long)\n",
        "#prompt_length = \n",
        "print(tokenized_prompt)"
      ]
    },
    {
      "cell_type": "code",
      "execution_count": 22,
      "metadata": {},
      "outputs": [
        {
          "name": "stdout",
          "output_type": "stream",
          "text": [
            "7\n"
          ]
        }
      ],
      "source": [
        "print(len(tokenized_prompt))"
      ]
    },
    {
      "cell_type": "code",
      "execution_count": 23,
      "metadata": {},
      "outputs": [
        {
          "name": "stdout",
          "output_type": "stream",
          "text": [
            "is\n",
            "in\n",
            "s\n",
            "in\n",
            "to\n",
            "had\n",
            "a\n",
            "\n"
          ]
        }
      ],
      "source": [
        "LSTM = predict_next_word(model, \"She doesn't study German on\", vocab, top_k=5)\n",
        "LSTM_Pred = \"\"\n",
        "i = 0\n",
        "for s, n in LSTM:\n",
        "  if i < 10:\n",
        "    i += 1\n",
        "    LSTM_Pred += s + \"\\n\"\n",
        "  else:\n",
        "    break\n",
        "\n",
        "print(LSTM_Pred)"
      ]
    },
    {
      "cell_type": "code",
      "execution_count": 24,
      "metadata": {},
      "outputs": [
        {
          "name": "stdout",
          "output_type": "stream",
          "text": [
            "does\n",
            "is\n",
            "is\n",
            "in\n",
            "\n"
          ]
        }
      ],
      "source": [
        "LSTM = predict_next_word(model, \"Does she live in\", vocab, top_k=5)\n",
        "LSTM_Pred = \"\"\n",
        "i = 0\n",
        "for s, n in LSTM:\n",
        "  if i < 10:\n",
        "    i += 1\n",
        "    LSTM_Pred += s + \"\\n\"\n",
        "  else:\n",
        "    break\n",
        "\n",
        "print(LSTM_Pred)"
      ]
    },
    {
      "cell_type": "code",
      "execution_count": 25,
      "metadata": {},
      "outputs": [
        {
          "name": "stdout",
          "output_type": "stream",
          "text": [
            "to\n",
            "be\n",
            "and\n",
            "in\n",
            "in\n",
            "new\n",
            "some\n",
            "for\n",
            "\n"
          ]
        }
      ],
      "source": [
        "LSTM = predict_next_word(model, \"My sister and I don’t see each other\", vocab, top_k=5)\n",
        "LSTM_Pred = \"\"\n",
        "i = 0\n",
        "for s, n in LSTM:\n",
        "  if i < 10:\n",
        "    i += 1\n",
        "    LSTM_Pred += s + \"\\n\"\n",
        "  else:\n",
        "    break\n",
        "\n",
        "print(LSTM_Pred)"
      ]
    },
    {
      "cell_type": "code",
      "execution_count": 26,
      "metadata": {},
      "outputs": [
        {
          "name": "stdout",
          "output_type": "stream",
          "text": [
            "to\n",
            "had\n",
            "to\n",
            "bonds\n",
            "in\n",
            "s\n",
            "in\n",
            "is\n",
            "for\n",
            "a\n",
            "\n"
          ]
        }
      ],
      "source": [
        "LSTM = predict_next_word(model, \"Tomorrow early morning first I'll go for a morning\", vocab, top_k=5)\n",
        "LSTM_Pred = \"\"\n",
        "i = 0\n",
        "for s, n in LSTM:\n",
        "  if i < 10:\n",
        "    i += 1\n",
        "    LSTM_Pred += s + \"\\n\"\n",
        "  else:\n",
        "    break\n",
        "\n",
        "print(LSTM_Pred)"
      ]
    },
    {
      "cell_type": "code",
      "execution_count": 27,
      "metadata": {},
      "outputs": [
        {
          "name": "stdout",
          "output_type": "stream",
          "text": [
            "for\n",
            "to\n",
            "and\n",
            "in\n",
            "to\n",
            "for\n",
            "a\n",
            "to\n",
            "president\n",
            "for\n",
            "\n"
          ]
        }
      ],
      "source": [
        "LSTM = predict_next_word(model, \"The police department in my town is just around the corner from my\", vocab, top_k=5)\n",
        "LSTM_Pred = \"\"\n",
        "i = 0\n",
        "for s, n in LSTM:\n",
        "  if i < 10:\n",
        "    i += 1\n",
        "    LSTM_Pred += s + \"\\n\"\n",
        "  else:\n",
        "    break\n",
        "\n",
        "print(LSTM_Pred)"
      ]
    },
    {
      "cell_type": "code",
      "execution_count": 28,
      "metadata": {},
      "outputs": [
        {
          "name": "stdout",
          "output_type": "stream",
          "text": [
            "to\n",
            "and\n",
            "had\n",
            "also\n",
            "n\n",
            "a\n",
            "do\n",
            "average\n",
            "is\n",
            "for\n",
            "\n"
          ]
        }
      ],
      "source": [
        "LSTM = predict_next_word(model, \"My mother had also wanted to make an appointment with the\", vocab, top_k=5)\n",
        "LSTM_Pred = \"\"\n",
        "i = 0\n",
        "for s, n in LSTM:\n",
        "  if i < 10:\n",
        "    i += 1\n",
        "    LSTM_Pred += s + \"\\n\"\n",
        "  else:\n",
        "    break\n",
        "\n",
        "print(LSTM_Pred)"
      ]
    },
    {
      "cell_type": "code",
      "execution_count": 29,
      "metadata": {},
      "outputs": [
        {
          "name": "stdout",
          "output_type": "stream",
          "text": [
            "is\n",
            "in\n",
            "with\n",
            "\n"
          ]
        }
      ],
      "source": [
        "LSTM = predict_next_word(model, \"She doesn’t teach\", vocab, top_k=5)\n",
        "LSTM_Pred = \"\"\n",
        "i = 0\n",
        "for s, n in LSTM:\n",
        "  if i < 10:\n",
        "    i += 1\n",
        "    LSTM_Pred += s + \"\\n\"\n",
        "  else:\n",
        "    break\n",
        "\n",
        "print(LSTM_Pred)"
      ]
    },
    {
      "cell_type": "code",
      "execution_count": 30,
      "metadata": {},
      "outputs": [
        {
          "name": "stdout",
          "output_type": "stream",
          "text": [
            "is\n",
            "it\n",
            "in\n",
            "'\n",
            "\n"
          ]
        }
      ],
      "source": [
        "LSTM = predict_next_word(model, \"She always forgets her\", vocab, top_k=5)\n",
        "LSTM_Pred = \"\"\n",
        "i = 0\n",
        "for s, n in LSTM:\n",
        "  if i < 10:\n",
        "    i += 1\n",
        "    LSTM_Pred += s + \"\\n\"\n",
        "  else:\n",
        "    break\n",
        "\n",
        "print(LSTM_Pred)"
      ]
    },
    {
      "cell_type": "code",
      "execution_count": 31,
      "metadata": {},
      "outputs": [],
      "source": [
        "torch.save(best_model.state_dict(), 'C:/Users/Colum/Documents/CS4125Repo/cs4125_project/FYP/Models/BiLSTM_Model.pt')"
      ]
    }
  ],
  "metadata": {
    "accelerator": "GPU",
    "colab": {
      "provenance": []
    },
    "gpuClass": "standard",
    "kernelspec": {
      "display_name": "FYP",
      "language": "python",
      "name": "python3"
    },
    "language_info": {
      "codemirror_mode": {
        "name": "ipython",
        "version": 3
      },
      "file_extension": ".py",
      "mimetype": "text/x-python",
      "name": "python",
      "nbconvert_exporter": "python",
      "pygments_lexer": "ipython3",
      "version": "3.9.13"
    },
    "vscode": {
      "interpreter": {
        "hash": "bf807ff7804177cb064b0b0cf5301ed22df117b3fb18bcbbf663491319fdf93c"
      }
    }
  },
  "nbformat": 4,
  "nbformat_minor": 0
}
